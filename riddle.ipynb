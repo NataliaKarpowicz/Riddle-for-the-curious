{
 "cells": [
  {
   "cell_type": "markdown",
   "metadata": {},
   "source": [
    "*Assumptions*\n",
    "1. A != 1\n",
    "2. M != 2\n",
    "3. VISMA + API + AI + SAAS = HEAVEN\n",
    "4. each n from [0,9] is assign to unique letter from set {V, I, S, M, A, P, H, E, N, L}"
   ]
  },
  {
   "cell_type": "markdown",
   "metadata": {},
   "source": [
    "*Goal*\n",
    "\n",
    "Assign each letter V, I, S, M, A, P, H, E, N and L to exactly one digit following the assumptions"
   ]
  },
  {
   "cell_type": "markdown",
   "metadata": {},
   "source": [
    "*Notes*\n",
    "1. Without adding limitation to the array search, the complexity of a task is O(n) = n^n (10^10)\n",
    "2. H is the last digit, so its value is eather 1 or 0\n",
    "3. I+S>=8, we can notice that sth must be added to the letter V in equation as V+?=?E\n",
    "4. If H == 1 then E = 0 or E = 1\n",
    "5. If H == 0 then E = V + 1 or E = V + 2\n",
    "6. (A+I+I+S)%10 = N\n",
    "7. (M+P+A+A+tens(A+I+I+S))%10 = E\n",
    "8. (S+A+A+tens(from above))%10 = V\n",
    "9. (I+S+tens(from above))%10 = A\n",
    "10. (V+tens(from above))%10 = E"
   ]
  },
  {
   "cell_type": "code",
   "execution_count": 26,
   "metadata": {},
   "outputs": [],
   "source": [
    "visma = 0\n",
    "api = 0\n",
    "ai = 0\n",
    "saas = 0\n",
    "heaven = 999999\n",
    "count = 0\n",
    "\n",
    "chosen_n = []"
   ]
  },
  {
   "cell_type": "code",
   "execution_count": 41,
   "metadata": {},
   "outputs": [
    {
     "name": "stdout",
     "output_type": "stream",
     "text": [
      "solution found!\n",
      "a: 3 v: 5 p: 2 s: 8 i: 4 m: 7 h: 0 e: 6 n: 9\n"
     ]
    }
   ],
   "source": [
    "# h belongs to [0,1]\n",
    "for h in [0,1]:\n",
    "    chosen_n.append(h)\n",
    "\n",
    "    for v in range(10):\n",
    "        if v == h:\n",
    "            continue\n",
    "        chosen_n.append(v)\n",
    "\n",
    "        for e in [(v+1)%10, (v+2)%10]:\n",
    "            if e == h:\n",
    "                continue\n",
    "            chosen_n.append(e)\n",
    "\n",
    "            for i in range(10):\n",
    "                if i in chosen_n:\n",
    "                    continue\n",
    "                chosen_n.append(i)\n",
    "                \n",
    "                for s in range(10):\n",
    "                    if s in chosen_n:\n",
    "                        continue\n",
    "                    if i+s<8:\n",
    "                        continue\n",
    "                    chosen_n.append(s)\n",
    "                    \n",
    "                    # a belongs to numbers except 1\n",
    "                    for a in range(10):\n",
    "                        if a == 1:\n",
    "                            continue\n",
    "                        if a in chosen_n:\n",
    "                            continue\n",
    "                        chosen_n.append(a)\n",
    "                  \n",
    "                        for n in range(10):\n",
    "                            if n in chosen_n:\n",
    "                                continue\n",
    "                            if (a+i+i+s)%10 != n:\n",
    "                                continue\n",
    "                            chosen_n.append(n)\n",
    "                            \n",
    "                            for m in range(10):\n",
    "                                if m == 2:\n",
    "                                    continue\n",
    "                                if m in chosen_n:\n",
    "                                    continue\n",
    "                                chosen_n.append(m)\n",
    "                                \n",
    "                                for p in range(10):\n",
    "                                    if p in chosen_n:\n",
    "                                        continue\n",
    "                                \n",
    "                                    visma = v*10000+i*1000+s*100+m*10+a\n",
    "                                    api = a*100+p*10+i\n",
    "                                    ai = a*10+i\n",
    "                                    saas = s*1000+a*100+a*10+s\n",
    "                                    heaven = h*100000+e*10000+a*1000+v*100+e*10+n\n",
    "                                    if visma+api+ai+saas == heaven:\n",
    "                                        print(\"solution found!\")\n",
    "                                        print('a:', a, 'v:', v, 'p:', p, 's:', s, 'i:', i, 'm:', m, 'h:', h, 'e:', e, 'n:', n)\n",
    "                                        break\n",
    "                                        \n",
    "                                chosen_n = [h,v,e,i,s,a,n]\n",
    "                            chosen_n = [h,v,e,i,s,a]\n",
    "                        chosen_n = [h,v,e,i,s]\n",
    "                    chosen_n = [h,v,e,i]\n",
    "                chosen_n = [h,v,e]\n",
    "            chosen_n = [h,v]\n",
    "        chosen_n = [h]\n",
    "    chosen_n = []\n",
    "    "
   ]
  },
  {
   "cell_type": "code",
   "execution_count": null,
   "metadata": {},
   "outputs": [],
   "source": []
  }
 ],
 "metadata": {
  "kernelspec": {
   "display_name": "Python 3.9.12 ('base': conda)",
   "language": "python",
   "name": "python3"
  },
  "language_info": {
   "codemirror_mode": {
    "name": "ipython",
    "version": 3
   },
   "file_extension": ".py",
   "mimetype": "text/x-python",
   "name": "python",
   "nbconvert_exporter": "python",
   "pygments_lexer": "ipython3",
   "version": "3.9.12"
  },
  "orig_nbformat": 4,
  "vscode": {
   "interpreter": {
    "hash": "85b31755cbf75356c393a3522367cd288f0b05170e2bd292c75b11fc3d2da2cf"
   }
  }
 },
 "nbformat": 4,
 "nbformat_minor": 2
}
